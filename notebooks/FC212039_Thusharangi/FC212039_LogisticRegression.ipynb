{
 "cells": [
  {
   "cell_type": "code",
   "execution_count": 5,
   "id": "01d4f30c-554c-4ae6-9f8f-ba9408ff3584",
   "metadata": {},
   "outputs": [
    {
     "name": "stdout",
     "output_type": "stream",
     "text": [
      "   Pregnancies   Glucose  BloodPressure  SkinThickness   Insulin       BMI  \\\n",
      "0     0.679232  0.853233      -0.032943       0.533241 -0.175091  0.140273   \n",
      "1    -0.825341 -1.205921      -0.522090      -0.027046 -0.895302 -0.838377   \n",
      "2     1.281062  1.997207      -0.685139       0.514564  1.162948 -1.299740   \n",
      "3    -0.825341 -1.075181      -0.522090      -0.587333 -0.531666 -0.628666   \n",
      "4    -1.126256  0.493698      -2.641726       0.533241  0.121466  1.468441   \n",
      "\n",
      "   DiabetesPedigreeFunction       Age  Outcome  \n",
      "0                  0.478509  1.432495        1  \n",
      "1                 -0.369130 -0.181079        0  \n",
      "2                  0.616712 -0.096154        1  \n",
      "3                 -0.934224 -1.030329        0  \n",
      "4                  5.579704 -0.011229        1  \n",
      "Preprocessed dataset saved as 'FC212039_Healthcare-Diabetes-Preprocessed.csv'\n"
     ]
    }
   ],
   "source": [
    "import pandas as pd\n",
    "import numpy as np\n",
    "from sklearn.impute import KNNImputer\n",
    "from sklearn.preprocessing import StandardScaler\n",
    "from sklearn.pipeline import Pipeline\n",
    "\n",
    "#Pre processing the Dataset\n",
    "# Loading the raw dataset\n",
    "df = pd.read_csv(\"../../data/raw/FC212039_Healthcare-Diabetes.csv\").drop(columns=[\"Id\"])\n",
    "\n",
    "#checking for duplicates\n",
    "\n",
    "df.loc[df.duplicated(keep='first')]\n",
    "\n",
    "# Separating features -X and target -y\n",
    "X = df.drop(columns=\"Outcome\")\n",
    "\n",
    "# Column names where 0 is invalid\n",
    "cols_with_zeros = ['Glucose', 'BloodPressure', 'SkinThickness', 'Insulin', 'BMI']\n",
    "\n",
    "# Replacing 0s with np.nan\n",
    "for col in cols_with_zeros:\n",
    "    X[col] = X[col].replace(0, np.nan)\n",
    "\n",
    "#wide range differences in the data set:\n",
    "#\tInsulin: 0 – 846\n",
    "#\tGlucose: 0 – 199\n",
    "#\tBMI: 0 – 80.6\n",
    "#\tDiabetesPedigreeFunction: 0.078 – 2.42\n",
    "# Therfore Scaling frist and then Imputation\n",
    "# StandardScaler(z score) and KNN Imputation is selected (for LogisticRegression Model)\n",
    "# creating a pipeline for  StandardScaler --> KNNImputer\n",
    "prepdata_pipeline = Pipeline([\n",
    "    (\"scaler\", StandardScaler()),\n",
    "    (\"imputer\", KNNImputer(n_neighbors=5))\n",
    "])\n",
    "\n",
    "# Fitting and transforming the features(X)\n",
    "X_prep = prepdata_pipeline.fit_transform(X)\n",
    "\n",
    "# Converting back to DataFrame with original column names\n",
    "X_prep = pd.DataFrame(X_prep, columns=X.columns)\n",
    "\n",
    "# Adding back the target column\n",
    "X_prep[\"Outcome\"] = df[\"Outcome\"].values\n",
    "\n",
    "# Displaying first few rows\n",
    "print(X_prep.head())\n",
    "\n",
    "# Saving to a new CSV file\n",
    "X_prep.to_csv(\"../../data/processed/FC212039_Healthcare-Diabetes-Preprocessed.csv\", index=False)\n",
    "\n",
    "print(\"Preprocessed dataset saved as 'FC212039_Healthcare-Diabetes-Preprocessed.csv'\")\n"
   ]
  },
  {
   "cell_type": "code",
   "execution_count": null,
   "id": "bed3ce4f-2719-4dd7-a939-0c1037afd304",
   "metadata": {},
   "outputs": [],
   "source": []
  },
  {
   "cell_type": "code",
   "execution_count": null,
   "id": "205f1b80-fcaf-43d0-afe5-5bfdd284e957",
   "metadata": {},
   "outputs": [],
   "source": []
  },
  {
   "cell_type": "code",
   "execution_count": null,
   "id": "a49a3ba0-7472-4164-8624-0e5fb86289b8",
   "metadata": {},
   "outputs": [],
   "source": []
  },
  {
   "cell_type": "code",
   "execution_count": null,
   "id": "59e6954e-eb82-4eeb-9e29-14d60748c068",
   "metadata": {},
   "outputs": [],
   "source": []
  },
  {
   "cell_type": "code",
   "execution_count": null,
   "id": "a72771cb-2a8a-493f-91a0-9d749a00958e",
   "metadata": {},
   "outputs": [],
   "source": []
  }
 ],
 "metadata": {
  "kernelspec": {
   "display_name": "Python 3 (ipykernel)",
   "language": "python",
   "name": "python3"
  },
  "language_info": {
   "codemirror_mode": {
    "name": "ipython",
    "version": 3
   },
   "file_extension": ".py",
   "mimetype": "text/x-python",
   "name": "python",
   "nbconvert_exporter": "python",
   "pygments_lexer": "ipython3",
   "version": "3.12.10"
  }
 },
 "nbformat": 4,
 "nbformat_minor": 5
}
