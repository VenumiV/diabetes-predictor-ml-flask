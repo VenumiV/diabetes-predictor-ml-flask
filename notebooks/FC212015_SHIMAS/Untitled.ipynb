{
 "cells": [
  {
   "cell_type": "code",
   "execution_count": 2,
   "id": "e57339bb-c404-4155-9543-8a810c3c5955",
   "metadata": {},
   "outputs": [
    {
     "ename": "NameError",
     "evalue": "name 'startting_the' is not defined",
     "output_type": "error",
     "traceback": [
      "\u001b[0;31m---------------------------------------------------------------------------\u001b[0m",
      "\u001b[0;31mNameError\u001b[0m                                 Traceback (most recent call last)",
      "Cell \u001b[0;32mIn[2], line 1\u001b[0m\n\u001b[0;32m----> 1\u001b[0m \u001b[43mstartting_the\u001b[49m\u001b[38;5;241m-\u001b[39mproject\n",
      "\u001b[0;31mNameError\u001b[0m: name 'startting_the' is not defined"
     ]
    }
   ],
   "source": [
    "startting_the-project\n"
   ]
  },
  {
   "cell_type": "code",
   "execution_count": null,
   "id": "93ef7d78-ab12-4995-b14b-ab170c9d62ba",
   "metadata": {},
   "outputs": [],
   "source": []
  }
 ],
 "metadata": {
  "kernelspec": {
   "display_name": "Python 3 (ipykernel)",
   "language": "python",
   "name": "python3"
  },
  "language_info": {
   "codemirror_mode": {
    "name": "ipython",
    "version": 3
   },
   "file_extension": ".py",
   "mimetype": "text/x-python",
   "name": "python",
   "nbconvert_exporter": "python",
   "pygments_lexer": "ipython3",
   "version": "3.10.12"
  }
 },
 "nbformat": 4,
 "nbformat_minor": 5
}
